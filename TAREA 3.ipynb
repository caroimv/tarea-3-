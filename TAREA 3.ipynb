{
 "cells": [
  {
   "cell_type": "code",
   "execution_count": 13,
   "id": "cadb167a",
   "metadata": {},
   "outputs": [],
   "source": [
    "from numpy import *\n"
   ]
  },
  {
   "cell_type": "code",
   "execution_count": 14,
   "id": "0c638dd8",
   "metadata": {},
   "outputs": [],
   "source": [
    "# Problema 1: Optimizaci´on de ruta de reparto para MercadoLibre"
   ]
  },
  {
   "cell_type": "code",
   "execution_count": 26,
   "id": "504bb2f0",
   "metadata": {},
   "outputs": [
    {
     "name": "stdout",
     "output_type": "stream",
     "text": [
      "Distancia: 3.1622776601683795\n"
     ]
    }
   ],
   "source": [
    "punto1 = (0, 0)\n",
    "puntoA = (1, 3)\n",
    "\n",
    "def calcular_distancia(punto1, punto2):\n",
    "    x1, y1 = punto1\n",
    "    x2, y2 = punto2\n",
    "    distancia = ((x2 - x1)**2 + (y2 - y1)**2)**0.5\n",
    "    return distancia\n",
    "\n",
    "distancia = calcular_distancia(punto1, puntoA)\n",
    "print(\"Distancia:\", distancia)"
   ]
  },
  {
   "cell_type": "code",
   "execution_count": 11,
   "id": "19940361",
   "metadata": {},
   "outputs": [
    {
     "name": "stdout",
     "output_type": "stream",
     "text": [
      "Distancia total de la Ruta 1 = 9.6\n",
      "Distancia total de la Ruta 2 = 12.78\n",
      "Distancia total de la Ruta 3 = 13.56\n",
      "Ruta óptima: [(0, 0), (1, 3), (3, 5), (5, 2)]\n"
     ]
    }
   ],
   "source": [
    "def calcular_distancia_total(puntos):\n",
    "    distancia_total = 0\n",
    "    for i in range(len(puntos) - 1):\n",
    "        distancia = calcular_distancia(puntos[i], puntos[i + 1])\n",
    "        distancia_total += distancia\n",
    "    return distancia_total\n",
    "\n",
    "puntoI = (0, 0)\n",
    "puntoA = (1, 3)\n",
    "puntoB = (3, 5)\n",
    "puntoC = (5, 2)\n",
    "\n",
    "ruta1 = [puntoI, puntoA, puntoB, puntoC]\n",
    "distancia_ruta1 = calcular_distancia_total(ruta1)\n",
    "print(\"Distancia total de la Ruta 1 =\", round(distancia_ruta1, 2))\n",
    "\n",
    "ruta2 = [puntoI, puntoB, puntoA, puntoC]\n",
    "distancia_ruta2 = calcular_distancia_total(ruta2)\n",
    "print(\"Distancia total de la Ruta 2 =\", round(distancia_ruta2, 2))\n",
    "\n",
    "ruta3 = [puntoI, puntoB, puntoC, puntoA]\n",
    "distancia_ruta3 = calcular_distancia_total(ruta3)\n",
    "print(\"Distancia total de la Ruta 3 =\", round(distancia_ruta3, 2))\n",
    "\n",
    "rutas = [[(0,0), (1, 3), (3, 5), (5, 2)], [(0,0), (3, 5), (1, 3), (5, 2)], [(0,0), (3, 5), (5, 2), (1, 3)]]\n",
    "\n",
    "def optimizacion_ruta(rutas):\n",
    "    ruta_optima = None\n",
    "    distancia_minima = float('inf')\n",
    "    for ruta in rutas:\n",
    "        distancia_actual = calcular_distancia_total(ruta)\n",
    "        if distancia_actual < distancia_minima:\n",
    "            distancia_minima = distancia_actual\n",
    "            ruta_optima = ruta\n",
    "    return ruta_optima\n",
    "\n",
    "ruta_optima = optimizacion_ruta(rutas)\n",
    "print(\"Ruta óptima:\", ruta_optima)\n"
   ]
  },
  {
   "cell_type": "code",
   "execution_count": 12,
   "id": "9058e779",
   "metadata": {},
   "outputs": [],
   "source": [
    "# Problema 2: Inventario de libros para una biblioteca"
   ]
  },
  {
   "cell_type": "code",
   "execution_count": 29,
   "id": "bac3d5f8",
   "metadata": {},
   "outputs": [
    {
     "name": "stdout",
     "output_type": "stream",
     "text": [
      "libro: Don Quijote de la Mancha , del autor Miguel de Cervantes  \n",
      "disponibilidad: Si\n"
     ]
    }
   ],
   "source": [
    "class Libro:\n",
    "    def __init__(self, titulo, autor):\n",
    "        self.titulo = titulo\n",
    "        self.autor = autor\n",
    "        self.disponibilidad = \"Si\"\n",
    "\n",
    "    def obtener_titulo(self):\n",
    "        return self.titulo\n",
    "\n",
    "    def obtener_autor(self):\n",
    "        return self.autor\n",
    "\n",
    "    def esta_disponible(self):\n",
    "        return self.disponibilidad\n",
    "\n",
    "    def libro_prestado(self):\n",
    "        self.disponibilidad = \"No\"\n",
    "\n",
    "    def devolver_libro(self):\n",
    "        self.disponibilidad = \"Si\"\n",
    "\n",
    " # Creacion  objetos desde la clase Libro\n",
    "libro1 = Libro(\"Don Quijote de la Mancha\", \"Miguel de Cervantes \")\n",
    "\n",
    "# Obtener el título y autor del libro\n",
    "print(\"libro: {} , del autor {} \".format( libro1.obtener_titulo(), libro1.obtener_autor()))\n",
    "\n",
    "# Verificar la disponibilidad del libro\n",
    "print(\"disponibilidad:\", libro1.esta_disponible()) \n"
   ]
  },
  {
   "cell_type": "code",
   "execution_count": 30,
   "id": "b9c717f0",
   "metadata": {},
   "outputs": [
    {
     "name": "stdout",
     "output_type": "stream",
     "text": [
      "libro: Don Quijote de la Mancha , del autor Miguel de Cervantes  \n",
      "disponibilidad: No\n"
     ]
    }
   ],
   "source": [
    "# Prestar el libro\n",
    "libro1.libro_prestado()\n",
    "# Obtenerinformacion actualizada del libro \n",
    "print(\"libro: {} , del autor {} \".format( libro1.obtener_titulo(), libro1.obtener_autor()))\n",
    "# Verificar la disponibilidad del libro nuevamente\n",
    "print(\"disponibilidad:\",libro1.esta_disponible())  \n"
   ]
  },
  {
   "cell_type": "code",
   "execution_count": 32,
   "id": "a31c53f5",
   "metadata": {},
   "outputs": [
    {
     "name": "stdout",
     "output_type": "stream",
     "text": [
      "libro: Don Quijote de la Mancha , del autor Miguel de Cervantes  \n",
      "disponibilidad: No\n"
     ]
    }
   ],
   "source": [
    "# volver a pedir el mismo libro \n",
    "libro1.libro_prestado()\n",
    "# Obtener informacion actualizada del libro\n",
    "print(\"libro: {} , del autor {} \".format( libro1.obtener_titulo(), libro1.obtener_autor()))\n",
    "# Verificar la disponibilidad del libro nuevamente\n",
    "print(\"disponibilidad:\",libro1.esta_disponible())  \n"
   ]
  },
  {
   "cell_type": "code",
   "execution_count": 31,
   "id": "9ce51326",
   "metadata": {},
   "outputs": [
    {
     "name": "stdout",
     "output_type": "stream",
     "text": [
      "libro: Don Quijote de la Mancha , del autor Miguel de Cervantes  \n",
      "disponibilidad: Si\n"
     ]
    }
   ],
   "source": [
    "# Devolver el libro\n",
    "libro1.devolver_libro()\n",
    "# Obtener informacion actualizada del libro \n",
    "print(\"libro: {} , del autor {} \".format( libro1.obtener_titulo(), libro1.obtener_autor()))\n",
    "# Verificar la disponibilidad del libro después de ser devuelto\n",
    "print(\"disponibilidad:\",libro1.esta_disponible())  "
   ]
  }
 ],
 "metadata": {
  "kernelspec": {
   "display_name": "Python 3 (ipykernel)",
   "language": "python",
   "name": "python3"
  },
  "language_info": {
   "codemirror_mode": {
    "name": "ipython",
    "version": 3
   },
   "file_extension": ".py",
   "mimetype": "text/x-python",
   "name": "python",
   "nbconvert_exporter": "python",
   "pygments_lexer": "ipython3",
   "version": "3.10.9"
  }
 },
 "nbformat": 4,
 "nbformat_minor": 5
}
